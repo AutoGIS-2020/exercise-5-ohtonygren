{
 "cells": [
  {
   "cell_type": "code",
   "execution_count": 1,
   "metadata": {},
   "outputs": [],
   "source": [
    "# Importing packages\n",
    "import geopandas as gpd\n",
    "from pyproj import CRS\n",
    "import matplotlib.pyplot as plt\n",
    "import mapclassify\n",
    "import folium\n",
    "\n",
    "# Filepaths\n",
    "grid_fp = r'data/dataE5/Vaestotietoruudukko_2015.shp'\n",
    "\n",
    "# Read files\n",
    "grid = gpd.read_file(grid_fp)"
   ]
  },
  {
   "cell_type": "code",
   "execution_count": 2,
   "metadata": {},
   "outputs": [],
   "source": [
    "# Reproject geometries to EPSG 4326 based on the grid crs:\n",
    "grid = grid.to_crs(epsg=4326)"
   ]
  },
  {
   "cell_type": "code",
   "execution_count": 3,
   "metadata": {},
   "outputs": [],
   "source": [
    "# Selecting columns to use\n",
    "grid = grid[['INDEX','ASVALJYYS', 'ASUKKAITA', 'geometry']]\n",
    "grid['geoid'] = grid.index.astype(str)"
   ]
  },
  {
   "cell_type": "code",
   "execution_count": 5,
   "metadata": {},
   "outputs": [
    {
     "data": {
      "text/html": [
       "<div>\n",
       "<style scoped>\n",
       "    .dataframe tbody tr th:only-of-type {\n",
       "        vertical-align: middle;\n",
       "    }\n",
       "\n",
       "    .dataframe tbody tr th {\n",
       "        vertical-align: top;\n",
       "    }\n",
       "\n",
       "    .dataframe thead th {\n",
       "        text-align: right;\n",
       "    }\n",
       "</style>\n",
       "<table border=\"1\" class=\"dataframe\">\n",
       "  <thead>\n",
       "    <tr style=\"text-align: right;\">\n",
       "      <th></th>\n",
       "      <th>INDEX</th>\n",
       "      <th>ASVALJYYS</th>\n",
       "      <th>ASUKKAITA</th>\n",
       "      <th>geometry</th>\n",
       "      <th>geoid</th>\n",
       "    </tr>\n",
       "  </thead>\n",
       "  <tbody>\n",
       "    <tr>\n",
       "      <th>0</th>\n",
       "      <td>688</td>\n",
       "      <td>31.0</td>\n",
       "      <td>8</td>\n",
       "      <td>POLYGON ((24.50236 60.31928, 24.50233 60.32152...</td>\n",
       "      <td>0</td>\n",
       "    </tr>\n",
       "    <tr>\n",
       "      <th>1</th>\n",
       "      <td>703</td>\n",
       "      <td>42.0</td>\n",
       "      <td>6</td>\n",
       "      <td>POLYGON ((24.50287 60.28562, 24.50284 60.28787...</td>\n",
       "      <td>1</td>\n",
       "    </tr>\n",
       "    <tr>\n",
       "      <th>2</th>\n",
       "      <td>710</td>\n",
       "      <td>44.0</td>\n",
       "      <td>8</td>\n",
       "      <td>POLYGON ((24.50311 60.26992, 24.50308 60.27216...</td>\n",
       "      <td>2</td>\n",
       "    </tr>\n",
       "    <tr>\n",
       "      <th>3</th>\n",
       "      <td>711</td>\n",
       "      <td>64.0</td>\n",
       "      <td>7</td>\n",
       "      <td>POLYGON ((24.50315 60.26767, 24.50311 60.26992...</td>\n",
       "      <td>3</td>\n",
       "    </tr>\n",
       "    <tr>\n",
       "      <th>4</th>\n",
       "      <td>715</td>\n",
       "      <td>23.0</td>\n",
       "      <td>19</td>\n",
       "      <td>POLYGON ((24.50328 60.25870, 24.50325 60.26094...</td>\n",
       "      <td>4</td>\n",
       "    </tr>\n",
       "  </tbody>\n",
       "</table>\n",
       "</div>"
      ],
      "text/plain": [
       "   INDEX  ASVALJYYS  ASUKKAITA  \\\n",
       "0    688       31.0          8   \n",
       "1    703       42.0          6   \n",
       "2    710       44.0          8   \n",
       "3    711       64.0          7   \n",
       "4    715       23.0         19   \n",
       "\n",
       "                                            geometry geoid  \n",
       "0  POLYGON ((24.50236 60.31928, 24.50233 60.32152...     0  \n",
       "1  POLYGON ((24.50287 60.28562, 24.50284 60.28787...     1  \n",
       "2  POLYGON ((24.50311 60.26992, 24.50308 60.27216...     2  \n",
       "3  POLYGON ((24.50315 60.26767, 24.50311 60.26992...     3  \n",
       "4  POLYGON ((24.50328 60.25870, 24.50325 60.26094...     4  "
      ]
     },
     "execution_count": 5,
     "metadata": {},
     "output_type": "execute_result"
    }
   ],
   "source": [
    "grid.head()"
   ]
  },
  {
   "cell_type": "code",
   "execution_count": 59,
   "metadata": {},
   "outputs": [
    {
     "data": {
      "text/plain": [
       "<folium.features.GeoJson at 0x7f2a9ace9f10>"
      ]
     },
     "execution_count": 59,
     "metadata": {},
     "output_type": "execute_result"
    }
   ],
   "source": [
    "m3 = folium.Map(location=[60.25, 24.8], zoom_start=11, control_scale=True)\n",
    "\n",
    "# Set indeces\n",
    "grid['geoid'] = grid.index.astype(str)\n",
    "\n",
    "bins = np.linspace(grid['ASVALJYYS'].min(), grid['ASVALJYYS'].max(), 10)\n",
    "\n",
    "# Create a choropleth map\n",
    "folium.Choropleth(geo_data = grid,\n",
    "                  grid = grid,\n",
    "                  columns=['geoid','ASVALJYYS'],\n",
    "                  key_on='feature.id',\n",
    "                  fill_color='OrRd',\n",
    "                  line_color='black',\n",
    "                  line_weight=1,\n",
    "                  bins=bins,\n",
    "                  legend_name= 'Population density in Helsinki').add_to(m3)\n",
    "\n",
    "# Add tooltips into the map\n",
    "folium.features.GeoJson(grid,  \n",
    "                        name='Labels',\n",
    "                        style_function=lambda x: {'color':'transparent','fillColor':'transparent','weight':0},\n",
    "                        tooltip=folium.features.GeoJsonTooltip(fields=['ASVALJYYS','ASUKKAITA'],\n",
    "                                                                aliases = ['Asumisväljyys','Asumistiheys'],\n",
    "                                                                labels=True,\n",
    "                                                                sticky=False,)\n",
    "                                                               ).add_to(m3)"
   ]
  },
  {
   "cell_type": "code",
   "execution_count": null,
   "metadata": {},
   "outputs": [],
   "source": [
    "m3"
   ]
  },
  {
   "cell_type": "code",
   "execution_count": null,
   "metadata": {},
   "outputs": [],
   "source": []
  }
 ],
 "metadata": {
  "kernelspec": {
   "display_name": "Python 3",
   "language": "python",
   "name": "python3"
  },
  "language_info": {
   "codemirror_mode": {
    "name": "ipython",
    "version": 3
   },
   "file_extension": ".py",
   "mimetype": "text/x-python",
   "name": "python",
   "nbconvert_exporter": "python",
   "pygments_lexer": "ipython3",
   "version": "3.8.6"
  }
 },
 "nbformat": 4,
 "nbformat_minor": 4
}
